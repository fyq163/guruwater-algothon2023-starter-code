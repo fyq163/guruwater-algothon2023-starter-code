{
 "cells": [
  {
   "cell_type": "markdown",
   "source": [
    "# 详解teamName应该放什么方程\n",
    "## 不放到loop里面的活：\n",
    "    train test\n"
   ],
   "metadata": {
    "collapsed": false
   }
  },
  {
   "cell_type": "markdown",
   "source": [
    "## eval逻辑\n",
    "每次for loop都喂给我们一个横过来的price history as to today 50 * n天，传出一个竖着的50*1的position\n",
    "举个例子： ndarray[[0.01],[0.02]......[0.001]]"
   ],
   "metadata": {
    "collapsed": false
   }
  },
  {
   "cell_type": "markdown",
   "source": [
    "## 模拟一下\n",
    "\n",
    "1. 数据喂进模型，得到一个预测值\n",
    "2. 根据预测值判断买卖\n",
    "3. 读取文件判断一下有没有超过最大持仓量\n",
    "4. 输出position，记录到文件里\n",
    "\n",
    "\n",
    "train test和交易（predict）是两个模块"
   ],
   "metadata": {
    "collapsed": false
   }
  },
  {
   "cell_type": "markdown",
   "source": [
    "### 模型？\n",
    "1. 用价格预测MACD、MOMENTUM（RSI、BOLL有时间再说）这两个都是尖顶卖，尖底买，用导数变化来判断？当转折出现时，预测下一步是加深转折还是继续以前的趋势？\n",
    "2. lead lag，from statsmodels.tsa.stattools import grangercausalitytests（有空再说）"
   ],
   "metadata": {
    "collapsed": false
   }
  },
  {
   "cell_type": "code",
   "execution_count": null,
   "outputs": [],
   "source": [],
   "metadata": {
    "collapsed": false
   }
  }
 ],
 "metadata": {
  "kernelspec": {
   "display_name": "Python 3",
   "language": "python",
   "name": "python3"
  },
  "language_info": {
   "codemirror_mode": {
    "name": "ipython",
    "version": 2
   },
   "file_extension": ".py",
   "mimetype": "text/x-python",
   "name": "python",
   "nbconvert_exporter": "python",
   "pygments_lexer": "ipython2",
   "version": "2.7.6"
  }
 },
 "nbformat": 4,
 "nbformat_minor": 0
}
